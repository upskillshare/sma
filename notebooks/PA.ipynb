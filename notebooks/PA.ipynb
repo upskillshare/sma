{
 "cells": [
  {
   "cell_type": "code",
   "execution_count": 52,
   "metadata": {},
   "outputs": [],
   "source": [
    "from datetime import date\n",
    "from nsepy import get_history\n",
    "import pandas as pd\n",
    "import numpy as np\n"
   ]
  },
  {
   "cell_type": "code",
   "execution_count": 53,
   "metadata": {},
   "outputs": [
    {
     "name": "stdout",
     "output_type": "stream",
     "text": [
      "DatetimeIndex(['2018-01-01', '2018-01-02', '2018-01-03', '2018-01-04',\n",
      "               '2018-01-05', '2018-01-06', '2018-01-07', '2018-01-08',\n",
      "               '2018-01-09', '2018-01-10',\n",
      "               ...\n",
      "               '2018-05-22', '2018-05-23', '2018-05-24', '2018-05-25',\n",
      "               '2018-05-26', '2018-05-27', '2018-05-28', '2018-05-29',\n",
      "               '2018-05-30', '2018-05-31'],\n",
      "              dtype='datetime64[ns]', length=151, freq='D')\n"
     ]
    }
   ],
   "source": [
    "start=date(2018,1,1),\n",
    "end=date(2018,6,10)\n",
    "\n",
    "ind = pd.date_range('1/1/2018' , '31/5/2018')\n",
    "\n",
    "print(index)"
   ]
  },
  {
   "cell_type": "code",
   "execution_count": 54,
   "metadata": {},
   "outputs": [],
   "source": [
    "sbin = get_history(symbol='SBIN',start=date(2018,1,1),\n",
    "end=date(2018,6,10))\n",
    "\n",
    "MINDIA = get_history(symbol='3MINDIA',start=date(2018,1,1),\n",
    "end=date(2018,6,10))\n",
    "\n",
    "ABAN = get_history(symbol='ABAN',start=date(2018,1,1),\n",
    "end=date(2018,6,10))\n",
    "\n",
    "ABCAPITAL = get_history(symbol='ABCAPITAL',start=date(2018,1,1),\n",
    "end=date(2018,6,10))\n",
    "\n",
    "KMILES = get_history(symbol='8KMILES',start=date(2018,1,1),\n",
    "end=date(2018,6,10))\n",
    "\n"
   ]
  },
  {
   "cell_type": "code",
   "execution_count": 33,
   "metadata": {},
   "outputs": [],
   "source": [
    "symbols = [sbin,MINDIA,ABAN,ABCAPITAL,KMILES]"
   ]
  },
  {
   "cell_type": "code",
   "execution_count": 59,
   "metadata": {},
   "outputs": [],
   "source": [
    "def get_close_price(dataframe):\n",
    "    return dataframe['Close']\n",
    "    "
   ]
  },
  {
   "cell_type": "code",
   "execution_count": 80,
   "metadata": {},
   "outputs": [],
   "source": [
    "df2 = get_close_price(MINDIA)"
   ]
  },
  {
   "cell_type": "code",
   "execution_count": 81,
   "metadata": {},
   "outputs": [],
   "source": [
    "df2.to_csv('MINDIA.csv')"
   ]
  },
  {
   "cell_type": "code",
   "execution_count": 82,
   "metadata": {},
   "outputs": [],
   "source": [
    "data = pd.read_csv('data.csv')"
   ]
  },
  {
   "cell_type": "code",
   "execution_count": 84,
   "metadata": {},
   "outputs": [],
   "source": [
    "data_normed=data.copy()"
   ]
  },
  {
   "cell_type": "code",
   "execution_count": 88,
   "metadata": {},
   "outputs": [],
   "source": [
    "data_normed.set_index('Date',inplace=True)"
   ]
  },
  {
   "cell_type": "code",
   "execution_count": 94,
   "metadata": {},
   "outputs": [
    {
     "data": {
      "text/plain": [
       "SBIN           307.10\n",
       "8kmiles        901.95\n",
       "ABCAPITAL      186.40\n",
       "ABAN           201.30\n",
       "3Mindia      19264.55\n",
       "Name: 1/1/2018, dtype: float64"
      ]
     },
     "execution_count": 94,
     "metadata": {},
     "output_type": "execute_result"
    }
   ],
   "source": [
    "data_normed.iloc[0]"
   ]
  },
  {
   "cell_type": "code",
   "execution_count": 95,
   "metadata": {},
   "outputs": [],
   "source": [
    "data_no = data_normed / data_normed.iloc[0]"
   ]
  },
  {
   "cell_type": "code",
   "execution_count": 106,
   "metadata": {},
   "outputs": [],
   "source": [
    "data_no.head()\n",
    "allocdf=[.25,.25,.25,.25,.25]"
   ]
  },
  {
   "cell_type": "code",
   "execution_count": 107,
   "metadata": {},
   "outputs": [],
   "source": [
    "data_alloc=data_no * allocdf\n",
    "data_alloc.head()"
   ]
  },
  {
   "cell_type": "code",
   "execution_count": 110,
   "metadata": {},
   "outputs": [],
   "source": [
    "data_alloc.head()\n",
    "start_val=100000"
   ]
  },
  {
   "cell_type": "code",
   "execution_count": 111,
   "metadata": {},
   "outputs": [],
   "source": [
    "pos_dataframe = data_alloc * start_val"
   ]
  },
  {
   "cell_type": "code",
   "execution_count": 114,
   "metadata": {},
   "outputs": [],
   "source": [
    "pos_dataframe.head()\n",
    "pos_dataframe['Daily_total'] = pos_dataframe.sum(axis = 1 )"
   ]
  },
  {
   "cell_type": "code",
   "execution_count": 116,
   "metadata": {},
   "outputs": [],
   "source": [
    "port_val= pos_dataframe['Daily_total']\n"
   ]
  },
  {
   "cell_type": "code",
   "execution_count": 124,
   "metadata": {},
   "outputs": [
    {
     "name": "stdout",
     "output_type": "stream",
     "text": [
      "Cumulative return is :\n"
     ]
    }
   ],
   "source": [
    "port_val.head() \n",
    "cum_ret = port_val[-1]/port_val[0]-1\n",
    "print ('Cumulative return is :'.format(cum_ret) )"
   ]
  },
  {
   "cell_type": "code",
   "execution_count": 126,
   "metadata": {},
   "outputs": [
    {
     "name": "stdout",
     "output_type": "stream",
     "text": [
      "-0.23056267005421338\n"
     ]
    }
   ],
   "source": [
    "print (cum_ret)"
   ]
  },
  {
   "cell_type": "code",
   "execution_count": 128,
   "metadata": {},
   "outputs": [
    {
     "name": "stdout",
     "output_type": "stream",
     "text": [
      "96179.66624322333\n"
     ]
    },
    {
     "data": {
      "text/plain": [
       "Date\n",
       "6/4/2018    95668.073133\n",
       "6/5/2018    93152.819012\n",
       "6/6/2018    93956.891841\n",
       "6/7/2018    95173.890230\n",
       "6/8/2018    96179.666243\n",
       "Name: Daily_total, dtype: float64"
      ]
     },
     "execution_count": 128,
     "metadata": {},
     "output_type": "execute_result"
    }
   ],
   "source": [
    "print(port_val[-1])\n"
   ]
  },
  {
   "cell_type": "code",
   "execution_count": null,
   "metadata": {},
   "outputs": [],
   "source": []
  }
 ],
 "metadata": {
  "kernelspec": {
   "display_name": "Python 3",
   "language": "python",
   "name": "python3"
  },
  "language_info": {
   "codemirror_mode": {
    "name": "ipython",
    "version": 3
   },
   "file_extension": ".py",
   "mimetype": "text/x-python",
   "name": "python",
   "nbconvert_exporter": "python",
   "pygments_lexer": "ipython3",
   "version": "3.6.5"
  }
 },
 "nbformat": 4,
 "nbformat_minor": 2
}
